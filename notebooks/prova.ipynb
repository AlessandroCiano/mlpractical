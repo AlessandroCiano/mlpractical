{
 "cells": [
  {
   "cell_type": "code",
   "execution_count": 1,
   "metadata": {},
   "outputs": [
    {
     "name": "stdout",
     "output_type": "stream",
     "text": [
      "1\n",
      "2\n",
      "3\n",
      "4\n",
      "5\n"
     ]
    }
   ],
   "source": [
    "class MyIterable:\n",
    "    def __init__(self, data):\n",
    "        self.data = data\n",
    "        self.index = 0\n",
    "\n",
    "    def __iter__(self):\n",
    "        return self\n",
    "\n",
    "    def __next__(self):\n",
    "        if self.index < len(self.data):\n",
    "            result = self.data[self.index]\n",
    "            self.index += 1\n",
    "            return result\n",
    "        else:\n",
    "            raise StopIteration\n",
    "\n",
    "# Create an instance of MyIterable\n",
    "my_iterable = MyIterable([1, 2, 3, 4, 5])\n",
    "\n",
    "# Iterate over the instance\n",
    "for item in my_iterable:\n",
    "    print(item)"
   ]
  },
  {
   "cell_type": "code",
   "execution_count": 1,
   "metadata": {},
   "outputs": [
    {
     "name": "stdout",
     "output_type": "stream",
     "text": [
      "/home/noxiusk/mlpractical/mlp/__init__.py\n"
     ]
    }
   ],
   "source": [
    "import mlp\n",
    "\n",
    "print(mlp.__file__)"
   ]
  },
  {
   "cell_type": "code",
   "execution_count": 2,
   "metadata": {},
   "outputs": [
    {
     "name": "stdout",
     "output_type": "stream",
     "text": [
      "/home/noxiusk/mlpractical/mlp/data_providers.py\n"
     ]
    }
   ],
   "source": [
    "import mlp.data_providers\n",
    "\n",
    "print(mlp.data_providers.__file__)"
   ]
  },
  {
   "cell_type": "code",
   "execution_count": 74,
   "metadata": {},
   "outputs": [
    {
     "name": "stdout",
     "output_type": "stream",
     "text": [
      "(1020, 33)\n",
      "[  1.4   16.4    3.7    0.1    5.8   12.9    4.3    4.5   10.4   13.2\n",
      "   0.3    0.1    9.3   29.6   23.4    2.3    9.8    8.9    0.4    2.9\n",
      "   6.7    2.4    2.8    0.     0.4    1.9    2.3    0.3    0.     0.9\n",
      " -99.99]\n",
      "(32964,)\n",
      "[1.931e+03 1.000e+00 1.400e+00 2.100e+00 2.500e+00 1.000e-01 0.000e+00\n",
      " 0.000e+00 9.000e-01 6.200e+00]\n",
      "[[1.931e+03 1.000e+00 1.400e+00 2.100e+00 2.500e+00]\n",
      " [1.000e-01 0.000e+00 0.000e+00 9.000e-01 6.200e+00]\n",
      " [1.900e+00 4.900e+00 7.300e+00 8.000e-01 3.000e-01]\n",
      " [2.900e+00 7.500e+00 1.879e+01 1.300e+00 1.029e+01]]\n",
      "[[1.931e+03 1.000e+00 1.400e+00 2.100e+00]\n",
      " [1.000e-01 0.000e+00 0.000e+00 9.000e-01]\n",
      " [1.900e+00 4.900e+00 7.300e+00 8.000e-01]] [2.5 6.2 0.3]\n",
      "last =  [[1.931e+03 1.000e-01 1.900e+00 2.900e+00]\n",
      " [1.000e+00 0.000e+00 4.900e+00 7.500e+00]\n",
      " [1.400e+00 0.000e+00 7.300e+00 1.879e+01]\n",
      " [2.100e+00 9.000e-01 8.000e-01 1.300e+00]]\n"
     ]
    },
    {
     "data": {
      "text/plain": [
       "[<matplotlib.lines.Line2D at 0x70db1e02f980>]"
      ]
     },
     "execution_count": 74,
     "metadata": {},
     "output_type": "execute_result"
    },
    {
     "data": {
      "image/png": "[encoded data removed]",
      "text/plain": [
       "<Figure size 640x480 with 1 Axes>"
      ]
     },
     "metadata": {},
     "output_type": "display_data"
    }
   ],
   "source": [
    "import numpy as np\n",
    "import os\n",
    "import mlp.data_providers as data_providers\n",
    "import matplotlib.pyplot as plt\n",
    "\n",
    "data_path = os.path.join(\n",
    "    os.environ['MLP_DATA_DIR'], 'HadSSP_daily_qc.txt')\n",
    "assert os.path.isfile(data_path), (\n",
    "'Data file does not exist at expected path: ' + data_path\n",
    ")\n",
    "#TODO: load raw data from text file\n",
    "x = np.loadtxt(data_path, skiprows=3)\n",
    "\n",
    "print(x.shape)\n",
    "print(x[5, 2:])\n",
    "#print total n of elements in x multiplying the shape of x\n",
    "\n",
    "#x.flatten() > 5 creates a boolean array TRUE if the value is greater than 5, FALSE otherwise\n",
    "#boolean indexing is used to select the values from x that are greater than 5 \n",
    "'''this is equivalent to the following code:\n",
    "x = x.flatten()\n",
    "print(x.shape)    \n",
    "x = x[x >= 0]\n",
    "print(x.shape)\n",
    "'''\n",
    "x = x.flatten()[x.flatten() >= 0]\n",
    "print(x.shape)\n",
    "print(x[0:10:1])\n",
    "\n",
    "window_size = 5\n",
    "windows = np.empty((0, window_size))\n",
    "i = 0  # Initialize i\n",
    "while i < (len(x) - window_size + 1):\n",
    "    windows = np.vstack((windows, np.array([x[i:i+window_size]])))  # Correct np.vstack call\n",
    "    i += window_size\n",
    "print(windows[:4, : ])\n",
    "\n",
    "inputs = windows[:, :window_size-1]\n",
    "targets = windows[:, window_size-1]\n",
    "\n",
    "print(inputs[:3, :], targets[:3])\n",
    "print('last = ', np.c_[inputs, targets].T[:4, :4])\n",
    "\n",
    "plt.plot(np.array([1,2,-3,7,3]), 'b-')\n"
   ]
  },
  {
   "cell_type": "code",
   "execution_count": 45,
   "metadata": {},
   "outputs": [
    {
     "name": "stdout",
     "output_type": "stream",
     "text": [
      "[[1 2 3]\n",
      " [4 5 6]]\n"
     ]
    }
   ],
   "source": [
    "import numpy as np\n",
    "\n",
    "# Original ndarray with one row\n",
    "arr = np.array([[1, 2, 3]])\n",
    "\n",
    "# New row to add\n",
    "new_row = np.array([4, 5, 6])\n",
    "\n",
    "# Adding the new row\n",
    "result = np.vstack((arr, new_row))\n",
    "\n",
    "print(result)\n"
   ]
  },
  {
   "cell_type": "code",
   "execution_count": 1,
   "metadata": {},
   "outputs": [
    {
     "name": "stdout",
     "output_type": "stream",
     "text": [
      "[ 6 14 24 36 50]\n"
     ]
    }
   ],
   "source": [
    "import numpy as np\n",
    "\n",
    "vector1 = np.array([1, 2, 3, 4, 5])\n",
    "vector2 = np.array([6, 7, 8, 9, 10])\n",
    "\n",
    "result = vector1 * vector2\n",
    "\n",
    "print(result)"
   ]
  }
 ],
 "metadata": {
  "kernelspec": {
   "display_name": "mlp",
   "language": "python",
   "name": "python3"
  },
  "language_info": {
   "codemirror_mode": {
    "name": "ipython",
    "version": 3
   },
   "file_extension": ".py",
   "mimetype": "text/x-python",
   "name": "python",
   "nbconvert_exporter": "python",
   "pygments_lexer": "ipython3",
   "version": "3.12.5"
  }
 },
 "nbformat": 4,
 "nbformat_minor": 2
}
